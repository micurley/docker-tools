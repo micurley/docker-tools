{
 "cells": [
  {
   "cell_type": "code",
   "execution_count": 2,
   "metadata": {},
   "outputs": [
    {
     "name": "stdout",
     "output_type": "stream",
     "text": [
      "['/repo',\n",
      " '/usr/local/lib/python38.zip',\n",
      " '/usr/local/lib/python3.8',\n",
      " '/usr/local/lib/python3.8/lib-dynload',\n",
      " '',\n",
      " '/usr/local/lib/python3.8/site-packages',\n",
      " '/usr/local/lib/python3.8/site-packages/IPython/extensions',\n",
      " '/root/.ipython']\n"
     ]
    }
   ],
   "source": [
    "import sys\n",
    "import pprint\n",
    "pprint.pprint(sys.path)"
   ]
  }
 ],
 "metadata": {
  "kernelspec": {
   "display_name": "Python 3",
   "language": "python",
   "name": "python3"
  },
  "language_info": {
   "codemirror_mode": {
    "name": "ipython",
    "version": 3
   },
   "file_extension": ".py",
   "mimetype": "text/x-python",
   "name": "python",
   "nbconvert_exporter": "python",
   "pygments_lexer": "ipython3",
   "version": "3.8.6"
  }
 },
 "nbformat": 4,
 "nbformat_minor": 4
}
